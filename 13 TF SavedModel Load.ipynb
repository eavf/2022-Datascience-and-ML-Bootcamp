{
 "cells": [
  {
   "cell_type": "markdown",
   "metadata": {},
   "source": [
    "# Imports"
   ]
  },
  {
   "cell_type": "code",
   "execution_count": 1,
   "metadata": {},
   "outputs": [
    {
     "name": "stdout",
     "output_type": "stream",
     "text": [
      "WARNING:tensorflow:From F:\\GITHUB\\2022 Datascience and ML Bootcamp\\venv\\Lib\\site-packages\\keras\\src\\losses.py:2976: The name tf.losses.sparse_softmax_cross_entropy is deprecated. Please use tf.compat.v1.losses.sparse_softmax_cross_entropy instead.\n",
      "\n"
     ]
    }
   ],
   "source": [
    "import numpy as np\n",
    "import tensorflow as tf"
   ]
  },
  {
   "cell_type": "markdown",
   "metadata": {},
   "source": [
    "# Constants"
   ]
  },
  {
   "cell_type": "code",
   "execution_count": 6,
   "metadata": {},
   "outputs": [],
   "source": [
    "X_TRAIN_PATH = 'MNIST/digit_xtrain.csv'\n",
    "Y_TRAIN_PATH = 'MNIST/digit_ytrain.csv'\n",
    "\n",
    "LOGGING_PATH = 'tensorboard_mnist_digit_logs/'\n",
    "saved_models = \"saved_models/\"\n",
    "\n",
    "NR_CLASSES = 10\n",
    "VALIDATION_SIZE = 10000\n",
    "IMAGE_WIDTH = 28\n",
    "IMAGE_HEIGHT = 28\n",
    "CHANNELS = 1\n",
    "TOTAL_INPUTS = IMAGE_WIDTH*IMAGE_HEIGHT*CHANNELS\n",
    "\n",
    "\n",
    "nr_epochs = 70\n",
    "learning_rate = 5e-4\n",
    "\n",
    "n_hidden1 = 512\n",
    "n_hidden2 = 64\n",
    "\n",
    "X_TEST_PATH = 'MNIST/load_xtest.csv'\n",
    "Y_TEST_PATH = 'MNIST/load_ytest.csv'"
   ]
  },
  {
   "cell_type": "markdown",
   "metadata": {},
   "source": [
    "# Load and Preprocess Data"
   ]
  },
  {
   "cell_type": "code",
   "execution_count": 7,
   "metadata": {},
   "outputs": [],
   "source": [
    "# Re-scale features - aby sme dostali hodnoty 0 - 1 a nie 0 - 255, ako je to teraz\n",
    "def preprocess_data(x, y):\n",
    "    # Normalize images\n",
    "    x = x / 255.0\n",
    "\n",
    "    # One-hot encode labels\n",
    "    y = tf.one_hot(y.astype(np.int32), depth=NR_CLASSES)\n",
    "    return x, y"
   ]
  },
  {
   "cell_type": "code",
   "execution_count": 8,
   "metadata": {},
   "outputs": [],
   "source": [
    "def get_data():\n",
    "    # Load data from files\n",
    "    y_test = np.loadtxt(Y_TEST_PATH, delimiter=',', dtype=int)\n",
    "    x_test = np.loadtxt(X_TEST_PATH, delimiter=',', dtype=float)\n",
    "\n",
    "    # Preprocess the data\n",
    "    x_test, y_test = preprocess_data(x_test, y_test)\n",
    "    return x_test, y_test\n",
    "\n"
   ]
  },
  {
   "cell_type": "code",
   "execution_count": 9,
   "metadata": {},
   "outputs": [
    {
     "name": "stdout",
     "output_type": "stream",
     "text": [
      "Shape of x_test (10000, 784)\n",
      "Shape of y_test (10000, 784)\n"
     ]
    }
   ],
   "source": [
    "x_test, y_test = get_data()\n",
    "print(f'Shape of x_test {x_test.shape}')\n",
    "print(f'Shape of y_test {x_test.shape}')"
   ]
  },
  {
   "cell_type": "markdown",
   "metadata": {},
   "source": [
    "# Load the Model"
   ]
  },
  {
   "cell_type": "markdown",
   "metadata": {},
   "source": [
    "```\n",
    "tf.compat.v1.saved_model.load(sess,\n",
    "                           [tag_constants.SERVING],\n",
    "                           EXPORT_DIR)\n",
    "```"
   ]
  },
  {
   "cell_type": "code",
   "execution_count": 10,
   "metadata": {},
   "outputs": [],
   "source": [
    "# Specify the path to the saved model directory\n",
    "model_path = \"saved_models/\"\n",
    "\n",
    "# Load the saved model\n",
    "loaded_model = tf.saved_model.load(model_path)"
   ]
  },
  {
   "cell_type": "code",
   "execution_count": null,
   "metadata": {},
   "outputs": [],
   "source": []
  },
  {
   "cell_type": "markdown",
   "metadata": {},
   "source": [
    "# Test data"
   ]
  },
  {
   "cell_type": "code",
   "execution_count": 11,
   "metadata": {},
   "outputs": [],
   "source": [
    "# Testing\n",
    "def test_data(model):\n",
    "    # Make predictions on the test data\n",
    "    predictions = model(x_test)\n",
    "    # Calculate accuracy\n",
    "    test_accuracy = tf.reduce_mean(tf.cast(tf.equal(tf.argmax(predictions, axis=1), tf.argmax(y_test, axis=1)), tf.float32))\n",
    "    # Convert accuracy to a percentage and round to two decimal places\n",
    "    accuracy_percent = tf.round(test_accuracy * 100, 2)\n",
    "    # Print the accuracy as a percentage\n",
    "    print(f\"Accuracy: {accuracy_percent}%\")\n",
    "    print(f'Accuracy on test set is {test_accuracy:0.2%}')"
   ]
  },
  {
   "cell_type": "code",
   "execution_count": 12,
   "metadata": {},
   "outputs": [
    {
     "name": "stdout",
     "output_type": "stream",
     "text": [
      "Accuracy: 11.0%\n",
      "Accuracy on test set is 11.39%\n"
     ]
    }
   ],
   "source": [
    "test_data(loaded_model)"
   ]
  },
  {
   "cell_type": "code",
   "execution_count": 13,
   "metadata": {},
   "outputs": [
    {
     "data": {
      "text/plain": [
       "<tf.Tensor: shape=(5, 10), dtype=float32, numpy=\n",
       "array([[0., 0., 0., 0., 0., 0., 0., 1., 0., 0.],\n",
       "       [0., 0., 1., 0., 0., 0., 0., 0., 0., 0.],\n",
       "       [0., 1., 0., 0., 0., 0., 0., 0., 0., 0.],\n",
       "       [1., 0., 0., 0., 0., 0., 0., 0., 0., 0.],\n",
       "       [0., 0., 0., 0., 1., 0., 0., 0., 0., 0.]], dtype=float32)>"
      ]
     },
     "execution_count": 13,
     "metadata": {},
     "output_type": "execute_result"
    }
   ],
   "source": [
    "y_test[:5]"
   ]
  },
  {
   "cell_type": "code",
   "execution_count": 15,
   "metadata": {},
   "outputs": [],
   "source": [
    "predictions = loaded_model(x_test)"
   ]
  },
  {
   "cell_type": "code",
   "execution_count": 16,
   "metadata": {},
   "outputs": [
    {
     "data": {
      "text/plain": [
       "<tf.Tensor: shape=(5, 10), dtype=float32, numpy=\n",
       "array([[-0.13792796,  0.1501318 , -0.21788621, -0.12735713,  0.0334333 ,\n",
       "         0.10202569, -0.12212468, -0.08454008, -0.51458585,  0.08594806],\n",
       "       [-0.13872986,  0.1610417 , -0.19747278, -0.13731843,  0.00229461,\n",
       "         0.10634296, -0.07268298, -0.163056  , -0.49889255,  0.04274086],\n",
       "       [-0.15257603,  0.19750708, -0.22316706, -0.1397904 ,  0.03882719,\n",
       "         0.10127033, -0.09527921, -0.12217683, -0.51457614,  0.07024723],\n",
       "       [-0.10488565,  0.13022897, -0.23056272, -0.14715251,  0.01829705,\n",
       "         0.10172514, -0.08512358, -0.12836945, -0.5206715 ,  0.06650034],\n",
       "       [-0.14091158,  0.14869489, -0.21001488, -0.14567211,  0.06496836,\n",
       "         0.08819276, -0.08325665, -0.12131174, -0.5113587 ,  0.0778081 ]],\n",
       "      dtype=float32)>"
      ]
     },
     "execution_count": 16,
     "metadata": {},
     "output_type": "execute_result"
    }
   ],
   "source": [
    "predictions[:5]"
   ]
  },
  {
   "cell_type": "markdown",
   "metadata": {},
   "source": [
    "# Run Session & Make Prediction"
   ]
  },
  {
   "cell_type": "code",
   "execution_count": null,
   "metadata": {},
   "outputs": [],
   "source": []
  },
  {
   "cell_type": "markdown",
   "metadata": {},
   "source": [
    "# Check Results"
   ]
  },
  {
   "cell_type": "code",
   "execution_count": null,
   "metadata": {},
   "outputs": [],
   "source": []
  },
  {
   "cell_type": "code",
   "execution_count": null,
   "metadata": {},
   "outputs": [],
   "source": []
  },
  {
   "cell_type": "code",
   "execution_count": null,
   "metadata": {},
   "outputs": [],
   "source": []
  },
  {
   "cell_type": "markdown",
   "metadata": {},
   "source": [
    "# Cleanup"
   ]
  },
  {
   "cell_type": "code",
   "execution_count": null,
   "metadata": {},
   "outputs": [],
   "source": []
  },
  {
   "cell_type": "code",
   "execution_count": null,
   "metadata": {},
   "outputs": [],
   "source": []
  }
 ],
 "metadata": {
  "kernelspec": {
   "display_name": "Python 3 (ipykernel)",
   "language": "python",
   "name": "python3"
  },
  "language_info": {
   "codemirror_mode": {
    "name": "ipython",
    "version": 3
   },
   "file_extension": ".py",
   "mimetype": "text/x-python",
   "name": "python",
   "nbconvert_exporter": "python",
   "pygments_lexer": "ipython3",
   "version": "3.11.5"
  }
 },
 "nbformat": 4,
 "nbformat_minor": 2
}
