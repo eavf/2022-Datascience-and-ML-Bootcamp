{
 "cells": [
  {
   "cell_type": "code",
   "execution_count": 1,
   "id": "a6e4c9c1",
   "metadata": {},
   "outputs": [],
   "source": [
    "from sklearn.linear_model import LinearRegression as lr\n",
    "from sklearn.metrics import mean_squared_error as mse\n",
    "\n",
    "import pandas as pd\n",
    "import numpy as np\n",
    "import boston_valuation as val"
   ]
  },
  {
   "cell_type": "code",
   "execution_count": 2,
   "id": "33b28dc0",
   "metadata": {},
   "outputs": [],
   "source": [
    "data_url = \"http://lib.stat.cmu.edu/datasets/boston\"\n",
    "raw_df = pd.read_csv(data_url, sep=\"\\s+\", skiprows=22, header=None)\n",
    "\n",
    "data = np.hstack([raw_df.values[::2, :], raw_df.values[1::2, :2]])\n",
    "target = raw_df.values[1::2, 2]\n",
    "df_data = pd.DataFrame(data, columns=['CRIM', 'ZN', 'INDUS', 'CHAS', 'NOX', 'RM', \n",
    "                                      'AGE', 'DIS', 'RAD', 'TAX', 'PTRATIO','B','LSTAT'])\n",
    "features = df_data.drop(['INDUS', 'AGE'], axis=1)\n",
    "\n",
    "log_prices = np.log(target)\n",
    "target = pd.DataFrame(log_prices, columns=['PRICE'])\n"
   ]
  },
  {
   "cell_type": "code",
   "execution_count": 3,
   "id": "6b452aff",
   "metadata": {},
   "outputs": [
    {
     "data": {
      "text/plain": [
       "array([[3.61352356e+000, 1.13636364e+001, 6.91699605e-002,\n",
       "        1.97626258e-323, 2.47032823e-323, 3.45845952e-323,\n",
       "        3.95252517e-323, 4.44659081e-323, 4.94065646e-323,\n",
       "        5.43472210e-323, 5.92878775e-323]])"
      ]
     },
     "execution_count": 3,
     "metadata": {},
     "output_type": "execute_result"
    }
   ],
   "source": [
    "CRIM_IDX = 0\n",
    "ZN_IDX = 1\n",
    "CHAS_IDX = 2\n",
    "RM_IDX = 4\n",
    "PTRATIO_IDX = 8\n",
    "\n",
    "property_stats = np.ndarray(shape=(1,11))\n",
    "property_stats[0][CRIM_IDX] = features['CRIM'].mean()\n",
    "property_stats[0][ZN_IDX] = features['ZN'].mean()\n",
    "property_stats[0][CHAS_IDX] = features['CHAS'].mean()\n",
    "\n",
    "property_stats"
   ]
  },
  {
   "cell_type": "code",
   "execution_count": 4,
   "id": "dc383095",
   "metadata": {},
   "outputs": [
    {
     "data": {
      "text/plain": [
       "pandas.core.series.Series"
      ]
     },
     "execution_count": 4,
     "metadata": {},
     "output_type": "execute_result"
    }
   ],
   "source": [
    "type(features.mean())"
   ]
  },
  {
   "cell_type": "code",
   "execution_count": 5,
   "id": "f97eaea8",
   "metadata": {},
   "outputs": [
    {
     "data": {
      "text/plain": [
       "numpy.ndarray"
      ]
     },
     "execution_count": 5,
     "metadata": {},
     "output_type": "execute_result"
    }
   ],
   "source": [
    "type(features.mean().values)"
   ]
  },
  {
   "cell_type": "code",
   "execution_count": 6,
   "id": "2db6f57f",
   "metadata": {},
   "outputs": [
    {
     "data": {
      "text/plain": [
       "(11,)"
      ]
     },
     "execution_count": 6,
     "metadata": {},
     "output_type": "execute_result"
    }
   ],
   "source": [
    "features.mean().values.shape"
   ]
  },
  {
   "cell_type": "code",
   "execution_count": 7,
   "id": "fb7512cc",
   "metadata": {},
   "outputs": [
    {
     "data": {
      "text/plain": [
       "array([[3.61352356e+00, 1.13636364e+01, 6.91699605e-02, 5.54695059e-01,\n",
       "        6.28463439e+00, 3.79504269e+00, 9.54940711e+00, 4.08237154e+02,\n",
       "        1.84555336e+01, 3.56674032e+02, 1.26530632e+01]])"
      ]
     },
     "execution_count": 7,
     "metadata": {},
     "output_type": "execute_result"
    }
   ],
   "source": [
    "# Musíme reshape na pole 1,11\n",
    "\n",
    "features.mean().values.reshape(1,11)"
   ]
  },
  {
   "cell_type": "code",
   "execution_count": 8,
   "id": "514dbf88",
   "metadata": {},
   "outputs": [],
   "source": [
    "property_stats = features.mean().values.reshape(1,11)"
   ]
  },
  {
   "cell_type": "code",
   "execution_count": 9,
   "id": "d4b221f2",
   "metadata": {},
   "outputs": [],
   "source": [
    "regr = lr().fit(features, target)\n",
    "fitted_vals = regr.predict(features)\n",
    "\n",
    "# Challenge: Calculate the MSE and RMSE using sklearn\n",
    "MSE = mse(target,fitted_vals)\n",
    "\n",
    "RMSE = np.sqrt(MSE)\n"
   ]
  },
  {
   "cell_type": "code",
   "execution_count": 10,
   "id": "9e54490a",
   "metadata": {},
   "outputs": [],
   "source": [
    "# Funkcia na odhad log ceny domu\n",
    "\n",
    "def get_log_estimate(nr_rooms,\n",
    "                    students_per_classroom,\n",
    "                    next_to_river=False,\n",
    "                    high_confidence=True):\n",
    "    # Configure property\n",
    "    property_stats[0][RM_IDX] = nr_rooms\n",
    "    property_stats[0][PTRATIO_IDX] = students_per_classroom\n",
    "    \n",
    "    if next_to_river:\n",
    "        property_stats[0][CHAS_IDX] = 1\n",
    "    else:\n",
    "        property_stats[0][CHAS_IDX] = 0\n",
    "    \n",
    "    print('Property Stats: ', property_stats[0])\n",
    "    print('Property Stats: ', property_stats.shape)\n",
    "    # Make prediction\n",
    "    log_estimate = regr.predict(property_stats)[0][0]\n",
    "    print('Log estimate: ', log_estimate)\n",
    "    \n",
    "    # Calc Range\n",
    "    if high_confidence:\n",
    "        # Do X (95%)\n",
    "        upper_bound = log_estimate + 2*RMSE\n",
    "        lower_bound = log_estimate - 2*RMSE\n",
    "        interval = 95\n",
    "    else:\n",
    "        # Do Y (65%)\n",
    "        upper_bound = log_estimate + RMSE\n",
    "        lower_bound = log_estimate - RMSE\n",
    "        interval = 68\n",
    "        \n",
    "    return log_estimate, upper_bound, lower_bound, interval"
   ]
  },
  {
   "cell_type": "code",
   "execution_count": 11,
   "id": "26a0276e",
   "metadata": {},
   "outputs": [
    {
     "name": "stdout",
     "output_type": "stream",
     "text": [
      "Property Stats:  [  3.61352356  11.36363636   1.           0.55469506   5.\n",
      "   3.79504269   9.54940711 408.23715415   5.         356.67403162\n",
      "  12.65306324]\n",
      "Property Stats:  (1, 11)\n",
      "Log estimate:  3.5194923023383096\n"
     ]
    },
    {
     "name": "stderr",
     "output_type": "stream",
     "text": [
      "F:\\GITHUB\\2022 Datascience and ML Bootcamp\\venv\\Lib\\site-packages\\sklearn\\base.py:439: UserWarning: X does not have valid feature names, but LinearRegression was fitted with feature names\n",
      "  warnings.warn(\n"
     ]
    },
    {
     "data": {
      "text/plain": [
       "(3.5194923023383096, 3.70700443753544, 3.3319801671411793, 68)"
      ]
     },
     "execution_count": 11,
     "metadata": {},
     "output_type": "execute_result"
    }
   ],
   "source": [
    "get_log_estimate(5, 5, next_to_river=True, high_confidence=False)"
   ]
  },
  {
   "cell_type": "code",
   "execution_count": 12,
   "id": "d72bd181",
   "metadata": {},
   "outputs": [
    {
     "data": {
      "text/plain": [
       "21.2"
      ]
     },
     "execution_count": 12,
     "metadata": {},
     "output_type": "execute_result"
    }
   ],
   "source": [
    "np.e**np.median(target) # lebo target je v logaritmických cenách"
   ]
  },
  {
   "cell_type": "code",
   "execution_count": 14,
   "id": "2321c843",
   "metadata": {},
   "outputs": [
    {
     "name": "stdout",
     "output_type": "stream",
     "text": [
      "Property Stats:  [  3.61352356  11.36363636   0.           0.55469506   5.\n",
      "   3.79504269   9.54940711 408.23715415  15.         356.67403162\n",
      "  12.65306324]\n",
      "Property Stats:  (1, 11)\n",
      "Log estimate:  3.04008483550242\n",
      "The estimated property value is 575000.0\n",
      "AT 68% confidence the valuation range is\n",
      "USD 477000.0 at the lower end to USD 694000.0 at the high end.\n"
     ]
    },
    {
     "name": "stderr",
     "output_type": "stream",
     "text": [
      "F:\\GITHUB\\2022 Datascience and ML Bootcamp\\venv\\Lib\\site-packages\\sklearn\\base.py:439: UserWarning: X does not have valid feature names, but LinearRegression was fitted with feature names\n",
      "  warnings.warn(\n"
     ]
    }
   ],
   "source": [
    "# Challenge : Write the python code that converts the log price extimate using 1970s prices\n",
    "# as well as upper and the lower bounds to todays´ prices? Round the values to the nearest 1000 dollars\n",
    "\n",
    "zillow_median_price = 583.3\n",
    "scale_factor = zillow_median_price / np.e**np.median(target)\n",
    "\n",
    "log_est, upper, lower, conf = get_log_estimate(nr_rooms=5, students_per_classroom=15,\n",
    "                                            next_to_river=False, high_confidence=False)\n",
    "\n",
    "# convert to todays dollars\n",
    "dollar_est = np.e**log_est * 1000 * scale_factor\n",
    "dollar_hi = np.e**upper * 1000 * scale_factor\n",
    "dollar_lo = np.e**lower * 1000 * scale_factor\n",
    "\n",
    "# Round the dollar values to nearest thousand\n",
    "rounded_est = np.around(dollar_est, -3)\n",
    "rounded_hi = np.around(dollar_hi, -3)\n",
    "rounded_lo = np.around(dollar_lo, -3)\n",
    "\n",
    "print(f'The estimated property value is {rounded_est}')\n",
    "print(f'AT {conf}% confidence the valuation range is')\n",
    "print(f'USD {rounded_lo} at the lower end to USD {rounded_hi} at the high end.')"
   ]
  },
  {
   "cell_type": "code",
   "execution_count": 15,
   "id": "a677cb95",
   "metadata": {},
   "outputs": [],
   "source": [
    "def get_dollar_estimate(rm,\n",
    "                    ptratio,\n",
    "                    chas=False,\n",
    "                    large_range=True):\n",
    "    \n",
    "    \"\"\"\n",
    "    Estimate the price of the property in Boston.\n",
    "    rm -- number of rooms in the property.\n",
    "    ptratio -- number of students per teacher in the classroom for the school in the area.\n",
    "    chas --True if the property is next to river, False otherwise.\n",
    "    large_range -- True for 95 % prediction interval, False for a 68 % interval.\n",
    "    \n",
    "    \"\"\"\n",
    "    if rm < 1 or ptratio < 1:\n",
    "        print('That is unrealistic. Try again')\n",
    "        return\n",
    "        \n",
    "        \n",
    "    log_est, upper, lower, conf = get_log_estimate(rm,\n",
    "                                                    students_per_classroom=ptratio,\n",
    "                                                    next_to_river=chas,\n",
    "                                                    high_confidence=large_range)\n",
    "    # convert to todays dollars\n",
    "    dollar_est = np.e**log_est * 1000 * scale_factor\n",
    "    dollar_hi = np.e**upper * 1000 * scale_factor\n",
    "    dollar_lo = np.e**lower * 1000 * scale_factor\n",
    "\n",
    "    # Round the dollar values to nearest thousand\n",
    "    rounded_est = np.around(dollar_est, -3)\n",
    "    rounded_hi = np.around(dollar_hi, -3)\n",
    "    rounded_lo = np.around(dollar_lo, -3)\n",
    "\n",
    "    print(f'The estimated property value is {rounded_est}')\n",
    "    print(f'AT {conf}% confidence the valuation range is')\n",
    "    print(f'USD {rounded_lo} at the lower end to USD {rounded_hi} at the high end.')"
   ]
  },
  {
   "cell_type": "code",
   "execution_count": 16,
   "id": "9bccd64a",
   "metadata": {},
   "outputs": [
    {
     "name": "stdout",
     "output_type": "stream",
     "text": [
      "Property Stats:  [  3.61352356  11.36363636   1.           0.55469506   2.\n",
      "   3.79504269   9.54940711 408.23715415  30.         356.67403162\n",
      "  12.65306324]\n",
      "Property Stats:  (1, 11)\n",
      "Log estimate:  2.3118263814453304\n",
      "The estimated property value is 278000.0\n",
      "AT 95% confidence the valuation range is\n",
      "USD 191000.0 at the lower end to USD 404000.0 at the high end.\n"
     ]
    },
    {
     "name": "stderr",
     "output_type": "stream",
     "text": [
      "F:\\GITHUB\\2022 Datascience and ML Bootcamp\\venv\\Lib\\site-packages\\sklearn\\base.py:439: UserWarning: X does not have valid feature names, but LinearRegression was fitted with feature names\n",
      "  warnings.warn(\n"
     ]
    }
   ],
   "source": [
    "get_dollar_estimate(rm=2, ptratio=30, chas=True)"
   ]
  },
  {
   "cell_type": "code",
   "execution_count": 17,
   "id": "56db3738",
   "metadata": {},
   "outputs": [
    {
     "name": "stdout",
     "output_type": "stream",
     "text": [
      "The estimated property value is 783000.0\n",
      "AT 95% confidence the valuation range is\n",
      "USD 538000.0 at the lower end to USD 1139000.0 at the high end.\n"
     ]
    },
    {
     "name": "stderr",
     "output_type": "stream",
     "text": [
      "F:\\GITHUB\\2022 Datascience and ML Bootcamp\\venv\\Lib\\site-packages\\sklearn\\base.py:439: UserWarning: X does not have valid feature names, but LinearRegression was fitted with feature names\n",
      "  warnings.warn(\n"
     ]
    }
   ],
   "source": [
    "val.get_dollar_estimate(6,12,True)"
   ]
  },
  {
   "cell_type": "code",
   "execution_count": null,
   "id": "d752f22c",
   "metadata": {},
   "outputs": [],
   "source": []
  }
 ],
 "metadata": {
  "kernelspec": {
   "display_name": "Python 3 (ipykernel)",
   "language": "python",
   "name": "python3"
  },
  "language_info": {
   "codemirror_mode": {
    "name": "ipython",
    "version": 3
   },
   "file_extension": ".py",
   "mimetype": "text/x-python",
   "name": "python",
   "nbconvert_exporter": "python",
   "pygments_lexer": "ipython3",
   "version": "3.11.2"
  }
 },
 "nbformat": 4,
 "nbformat_minor": 5
}
