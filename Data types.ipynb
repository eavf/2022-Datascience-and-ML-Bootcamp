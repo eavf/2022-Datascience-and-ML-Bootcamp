{
 "cells": [
  {
   "cell_type": "code",
   "execution_count": 1,
   "id": "e393ab1c",
   "metadata": {},
   "outputs": [],
   "source": [
    "def test (A,B):\n",
    "    a = A\n",
    "    b = B\n",
    "    \n",
    "    a = B\n",
    "    b = A\n",
    "    \n",
    "    return(a,b)\n",
    "\n"
   ]
  },
  {
   "cell_type": "code",
   "execution_count": 2,
   "id": "e698ce74",
   "metadata": {},
   "outputs": [
    {
     "name": "stdout",
     "output_type": "stream",
     "text": [
      "('B', 'S')\n"
     ]
    }
   ],
   "source": [
    "print (test (\"S\", \"B\"))"
   ]
  },
  {
   "cell_type": "code",
   "execution_count": 3,
   "id": "bc814835",
   "metadata": {},
   "outputs": [
    {
     "name": "stdout",
     "output_type": "stream",
     "text": [
      "('5', '4')\n"
     ]
    }
   ],
   "source": [
    "print (test (\"4\", \"5\"))"
   ]
  },
  {
   "cell_type": "markdown",
   "id": "4750c985",
   "metadata": {},
   "source": [
    "Lists and arrays"
   ]
  },
  {
   "cell_type": "code",
   "execution_count": 7,
   "id": "bef6a00f",
   "metadata": {},
   "outputs": [
    {
     "name": "stdout",
     "output_type": "stream",
     "text": [
      "[1025, 99, 85]\n"
     ]
    }
   ],
   "source": [
    "def top_three(scores):\n",
    "    scores = scores\n",
    "    scores.sort(reverse=True)\n",
    "    top_scores = []\n",
    "    top_scores =scores[:3]\n",
    "    # Leave this line alone\n",
    "    return top_scores\n",
    "\n",
    "f = [45, 85, 2, 66, 99, 1025, 1, 0]\n",
    "print (top_three(f))"
   ]
  },
  {
   "cell_type": "code",
   "execution_count": null,
   "id": "c985e198",
   "metadata": {},
   "outputs": [],
   "source": []
  }
 ],
 "metadata": {
  "kernelspec": {
   "display_name": "Python 3 (ipykernel)",
   "language": "python",
   "name": "python3"
  },
  "language_info": {
   "codemirror_mode": {
    "name": "ipython",
    "version": 3
   },
   "file_extension": ".py",
   "mimetype": "text/x-python",
   "name": "python",
   "nbconvert_exporter": "python",
   "pygments_lexer": "ipython3",
   "version": "3.11.2"
  }
 },
 "nbformat": 4,
 "nbformat_minor": 5
}
