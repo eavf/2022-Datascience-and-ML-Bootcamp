{
 "cells": [
  {
   "cell_type": "code",
   "execution_count": null,
   "id": "18deda9f",
   "metadata": {},
   "outputs": [],
   "source": []
  },
  {
   "cell_type": "code",
   "execution_count": 1,
   "id": "77619741",
   "metadata": {},
   "outputs": [],
   "source": [
    "def get_milk():\n",
    "    print(\"Open door\")\n",
    "    print(\"Walk to the store\")\n",
    "    print(\"Buy milk on the ground floor\")\n",
    "    print(\"Return with milk galore\")\n",
    "    "
   ]
  },
  {
   "cell_type": "code",
   "execution_count": 2,
   "id": "c063d517",
   "metadata": {},
   "outputs": [
    {
     "name": "stdout",
     "output_type": "stream",
     "text": [
      "Open door\n",
      "Walk to the store\n",
      "Buy milk on the ground floor\n",
      "Return with milk galore\n"
     ]
    }
   ],
   "source": [
    "get_milk()"
   ]
  },
  {
   "cell_type": "code",
   "execution_count": 3,
   "id": "cfaa20cb",
   "metadata": {},
   "outputs": [],
   "source": [
    "def fill_the_fridge(amount):\n",
    "    print(\"Open door\")\n",
    "    print(\"Walk to the store\")\n",
    "    print(\"Buy \" + str(amount) + \" cartons on the ground floor\")\n",
    "    print(\"Return with milk galore\")\n",
    "    "
   ]
  },
  {
   "cell_type": "code",
   "execution_count": 4,
   "id": "b75e1e43",
   "metadata": {},
   "outputs": [
    {
     "name": "stdout",
     "output_type": "stream",
     "text": [
      "Open door\n",
      "Walk to the store\n",
      "Buy 10 cartons on the ground floor\n",
      "Return with milk galore\n"
     ]
    }
   ],
   "source": [
    "fill_the_fridge(10)"
   ]
  },
  {
   "cell_type": "code",
   "execution_count": 5,
   "id": "4949c2ac",
   "metadata": {},
   "outputs": [
    {
     "name": "stdout",
     "output_type": "stream",
     "text": [
      "Open door\n",
      "Walk to the store\n",
      "Buy 1000 cartons on the ground floor\n",
      "Return with milk galore\n"
     ]
    }
   ],
   "source": [
    "fill_the_fridge(1000)"
   ]
  },
  {
   "cell_type": "code",
   "execution_count": 6,
   "id": "92a8603c",
   "metadata": {},
   "outputs": [
    {
     "ename": "TypeError",
     "evalue": "fill_the_fridge() missing 1 required positional argument: 'amount'",
     "output_type": "error",
     "traceback": [
      "\u001b[1;31m---------------------------------------------------------------------------\u001b[0m",
      "\u001b[1;31mTypeError\u001b[0m                                 Traceback (most recent call last)",
      "Cell \u001b[1;32mIn[6], line 1\u001b[0m\n\u001b[1;32m----> 1\u001b[0m \u001b[43mfill_the_fridge\u001b[49m\u001b[43m(\u001b[49m\u001b[43m)\u001b[49m\n",
      "\u001b[1;31mTypeError\u001b[0m: fill_the_fridge() missing 1 required positional argument: 'amount'"
     ]
    }
   ],
   "source": [
    "fill_the_fridge()"
   ]
  },
  {
   "cell_type": "code",
   "execution_count": 7,
   "id": "df523270",
   "metadata": {},
   "outputs": [],
   "source": [
    "def got_milk(money):\n",
    "    littres = money/1.15\n",
    "    return littres\n",
    "    "
   ]
  },
  {
   "cell_type": "code",
   "execution_count": 8,
   "id": "4bf1ebc2",
   "metadata": {},
   "outputs": [
    {
     "name": "stdout",
     "output_type": "stream",
     "text": [
      "Vezmem 17.826086956521742 of milk\n"
     ]
    }
   ],
   "source": [
    "ff = got_milk(20.5)\n",
    "print(\"Vezmem \" + str(ff) + \" of milk\")"
   ]
  },
  {
   "cell_type": "code",
   "execution_count": 9,
   "id": "f5e6e8b7",
   "metadata": {},
   "outputs": [],
   "source": [
    "def milk_mission(amount, destination):\n",
    "    print(\"Open door\")\n",
    "    print(\"Walk to the \" + destination)\n",
    "    print(\"Buy \" + str(amount) + \" cartons on the ground floor\")\n",
    "    print(\"Return with milk galore\")\n",
    "    "
   ]
  },
  {
   "cell_type": "code",
   "execution_count": 10,
   "id": "00977618",
   "metadata": {},
   "outputs": [
    {
     "name": "stdout",
     "output_type": "stream",
     "text": [
      "Open door\n",
      "Walk to the department store\n",
      "Buy 20 cartons on the ground floor\n",
      "Return with milk galore\n"
     ]
    }
   ],
   "source": [
    "milk_mission(20, \"department store\")"
   ]
  },
  {
   "cell_type": "code",
   "execution_count": 11,
   "id": "ffb71dbb",
   "metadata": {},
   "outputs": [
    {
     "name": "stdout",
     "output_type": "stream",
     "text": [
      "Open door\n",
      "Walk to the department store\n",
      "Buy 20 cartons on the ground floor\n",
      "Return with milk galore\n"
     ]
    }
   ],
   "source": [
    "milk_mission(destination = \"department store\", amount=20)"
   ]
  },
  {
   "cell_type": "code",
   "execution_count": 12,
   "id": "4bd53dbc",
   "metadata": {},
   "outputs": [
    {
     "ename": "TypeError",
     "evalue": "milk_mission() got multiple values for argument 'amount'",
     "output_type": "error",
     "traceback": [
      "\u001b[1;31m---------------------------------------------------------------------------\u001b[0m",
      "\u001b[1;31mTypeError\u001b[0m                                 Traceback (most recent call last)",
      "Cell \u001b[1;32mIn[12], line 1\u001b[0m\n\u001b[1;32m----> 1\u001b[0m \u001b[43mmilk_mission\u001b[49m\u001b[43m(\u001b[49m\u001b[38;5;124;43m\"\u001b[39;49m\u001b[38;5;124;43mdepartment store\u001b[39;49m\u001b[38;5;124;43m\"\u001b[39;49m\u001b[43m,\u001b[49m\u001b[43m \u001b[49m\u001b[43mamount\u001b[49m\u001b[38;5;241;43m=\u001b[39;49m\u001b[38;5;241;43m20\u001b[39;49m\u001b[43m)\u001b[49m\n",
      "\u001b[1;31mTypeError\u001b[0m: milk_mission() got multiple values for argument 'amount'"
     ]
    }
   ],
   "source": [
    "milk_mission(\"department store\", amount=20)"
   ]
  },
  {
   "cell_type": "code",
   "execution_count": 17,
   "id": "edfd7972",
   "metadata": {},
   "outputs": [],
   "source": [
    "def times(x,y):\n",
    "    # result = x*y\n",
    "    return x*y"
   ]
  },
  {
   "cell_type": "code",
   "execution_count": 18,
   "id": "4e194b6f",
   "metadata": {},
   "outputs": [
    {
     "name": "stdout",
     "output_type": "stream",
     "text": [
      "15.9826\n"
     ]
    }
   ],
   "source": [
    "test = times (3.14,5.09)\n",
    "print (test)"
   ]
  },
  {
   "cell_type": "code",
   "execution_count": 19,
   "id": "102c4a7e",
   "metadata": {},
   "outputs": [
    {
     "data": {
      "text/plain": [
       "'NiNiNiNi'"
      ]
     },
     "execution_count": 19,
     "metadata": {},
     "output_type": "execute_result"
    }
   ],
   "source": [
    "times('Ni', 4)"
   ]
  },
  {
   "cell_type": "code",
   "execution_count": 20,
   "id": "cdd999e4",
   "metadata": {},
   "outputs": [
    {
     "name": "stdout",
     "output_type": "stream",
     "text": [
      "The Zen of Python, by Tim Peters\n",
      "\n",
      "Beautiful is better than ugly.\n",
      "Explicit is better than implicit.\n",
      "Simple is better than complex.\n",
      "Complex is better than complicated.\n",
      "Flat is better than nested.\n",
      "Sparse is better than dense.\n",
      "Readability counts.\n",
      "Special cases aren't special enough to break the rules.\n",
      "Although practicality beats purity.\n",
      "Errors should never pass silently.\n",
      "Unless explicitly silenced.\n",
      "In the face of ambiguity, refuse the temptation to guess.\n",
      "There should be one-- and preferably only one --obvious way to do it.\n",
      "Although that way may not be obvious at first unless you're Dutch.\n",
      "Now is better than never.\n",
      "Although never is often better than *right* now.\n",
      "If the implementation is hard to explain, it's a bad idea.\n",
      "If the implementation is easy to explain, it may be a good idea.\n",
      "Namespaces are one honking great idea -- let's do more of those!\n"
     ]
    }
   ],
   "source": [
    "import this"
   ]
  },
  {
   "cell_type": "code",
   "execution_count": 23,
   "id": "e965616f",
   "metadata": {},
   "outputs": [],
   "source": [
    "def concatenate_lists(a,b):\n",
    "    return a+b"
   ]
  },
  {
   "cell_type": "code",
   "execution_count": 24,
   "id": "4fe33bce",
   "metadata": {},
   "outputs": [
    {
     "name": "stdout",
     "output_type": "stream",
     "text": [
      "Spojené listu sú :  [1, 2, 3, 4, 5, 6, 7, 8, 9]\n"
     ]
    }
   ],
   "source": [
    "x = [1,2,3,4,5]\n",
    "y = [6,7,8,9]\n",
    "\n",
    "z = concatenate_lists(x,y)\n",
    "print (\"Spojené listu sú : \", z)"
   ]
  },
  {
   "cell_type": "code",
   "execution_count": null,
   "id": "37a28f5b",
   "metadata": {},
   "outputs": [],
   "source": []
  }
 ],
 "metadata": {
  "kernelspec": {
   "display_name": "Python 3 (ipykernel)",
   "language": "python",
   "name": "python3"
  },
  "language_info": {
   "codemirror_mode": {
    "name": "ipython",
    "version": 3
   },
   "file_extension": ".py",
   "mimetype": "text/x-python",
   "name": "python",
   "nbconvert_exporter": "python",
   "pygments_lexer": "ipython3",
   "version": "3.11.2"
  }
 },
 "nbformat": 4,
 "nbformat_minor": 5
}
