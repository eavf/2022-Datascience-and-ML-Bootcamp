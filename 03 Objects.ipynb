{
 "cells": [
  {
   "cell_type": "code",
   "execution_count": 1,
   "id": "e0fa1f49",
   "metadata": {},
   "outputs": [],
   "source": [
    "import life as vovo"
   ]
  },
  {
   "cell_type": "code",
   "execution_count": 2,
   "id": "59832d8b",
   "metadata": {},
   "outputs": [
    {
     "name": "stdout",
     "output_type": "stream",
     "text": [
      "I've calculated your chance of survival, but I don't thing you'll like it...\n"
     ]
    }
   ],
   "source": [
    "vovo.quote_vovo()"
   ]
  },
  {
   "cell_type": "code",
   "execution_count": 3,
   "id": "a48d5dac",
   "metadata": {},
   "outputs": [],
   "source": [
    "# quote_vovo()"
   ]
  },
  {
   "cell_type": "code",
   "execution_count": 4,
   "id": "e3ffc2c7",
   "metadata": {},
   "outputs": [
    {
     "name": "stdout",
     "output_type": "stream",
     "text": [
      "3.0\n"
     ]
    }
   ],
   "source": [
    "print (str(vovo.square_root(9)))"
   ]
  },
  {
   "cell_type": "code",
   "execution_count": null,
   "id": "202ba53d",
   "metadata": {},
   "outputs": [],
   "source": []
  }
 ],
 "metadata": {
  "kernelspec": {
   "display_name": "Python 3 (ipykernel)",
   "language": "python",
   "name": "python3"
  },
  "language_info": {
   "codemirror_mode": {
    "name": "ipython",
    "version": 3
   },
   "file_extension": ".py",
   "mimetype": "text/x-python",
   "name": "python",
   "nbconvert_exporter": "python",
   "pygments_lexer": "ipython3",
   "version": "3.11.2"
  }
 },
 "nbformat": 4,
 "nbformat_minor": 5
}
